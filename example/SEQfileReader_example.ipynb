{
 "cells": [
  {
   "cell_type": "markdown",
   "id": "47507b91-3174-4f0f-9727-69a3c95861c5",
   "metadata": {},
   "source": [
    "# Read SEQ-file plot, ..."
   ]
  },
  {
   "cell_type": "markdown",
   "id": "30514b98-597e-49bd-8022-906b5013b321",
   "metadata": {
    "tags": []
   },
   "source": [
    "## imports"
   ]
  },
  {
   "cell_type": "code",
   "execution_count": null,
   "id": "36094edd-ac56-43bb-aa85-78d6ed6a0aee",
   "metadata": {
    "tags": []
   },
   "outputs": [],
   "source": [
    "import logging\n",
    "#logging.basicConfig(level=logging.DEBUG)\n",
    "logging.basicConfig(level=logging.INFO)\n",
    "import numpy as np\n",
    "from numpy import r_\n",
    "import scipy as sp\n",
    "import scipy.signal\n",
    "import scipy.misc\n",
    "import datetime\n",
    "import os\n",
    "import pandas as pd"
   ]
  },
  {
   "cell_type": "code",
   "execution_count": null,
   "id": "683d1269-9f14-46ed-b550-fdbbdef6028a",
   "metadata": {
    "tags": []
   },
   "outputs": [],
   "source": [
    "import matplotlib.pyplot as plt\n",
    "import matplotlib as mpl\n",
    "%config InlineBackend.figure_formats = ['svg']\n",
    "#%matplotlib inline\n",
    "#%matplotlib notebook \n",
    "%matplotlib qt\n",
    "#%matplotlib widget\n",
    "\n",
    "mpl.rcParams['figure.figsize'] = r_[250, 120]/25.4\n",
    "mpl.rcParams['savefig.dpi'] = 600\n",
    "plt.rcParams['figure.constrained_layout.use'] = True"
   ]
  },
  {
   "cell_type": "markdown",
   "id": "26376393-bb24-43b4-81e9-01bcadd029da",
   "metadata": {},
   "source": [
    "## Installation of the fnv module:\n",
    "* Download and install the \"FLIR Science File SDK\" from https://flir.custhelp.com/app/account/fl_download_software.\n",
    "* Install Python module according https://flir.custhelp.com/app/answers/detail/a_id/3504/~/getting-started-with-flir-science-file-sdk-for-python  \n",
    "    Attention: Use the setup.py attached to the \"Getting started with ...\"  as the one in the SDK is broken.   "
   ]
  },
  {
   "cell_type": "code",
   "execution_count": null,
   "id": "78ce9b94-58df-4ca4-8938-e773f33cd4b1",
   "metadata": {
    "tags": []
   },
   "outputs": [],
   "source": [
    "## load SEQfileReader\n",
    "import sys\n",
    "# download form https://github.com/marthoch/SEQfileReader/\n",
    "sys.path.insert(0, r'C:\\data\\GitHub\\SEQfileReader\\src')\n",
    "sys.path.insert(0, r'..\\PythonLib\\SEQfileReader\\src')\n",
    "from SEQfileReader import SEQfileReader"
   ]
  },
  {
   "cell_type": "markdown",
   "id": "b86f5633-b73f-462c-aa2b-bf2cb4bd1a8c",
   "metadata": {
    "tags": []
   },
   "source": [
    "## load data"
   ]
  },
  {
   "cell_type": "code",
   "execution_count": null,
   "id": "5aaa7ef5-a473-4c40-9733-5db9702660a0",
   "metadata": {
    "tags": []
   },
   "outputs": [],
   "source": [
    "filename = r'test.seq'"
   ]
  },
  {
   "cell_type": "code",
   "execution_count": null,
   "id": "c1f7999b-4c25-4643-9602-a4feb8c52c5c",
   "metadata": {
    "tags": []
   },
   "outputs": [],
   "source": [
    "seq = SEQfileReader(filename)\n",
    "seq"
   ]
  },
  {
   "cell_type": "markdown",
   "id": "d261bb97-c057-40a2-ac7c-411db5335ad0",
   "metadata": {},
   "source": [
    "## read lines"
   ]
  },
  {
   "cell_type": "code",
   "execution_count": null,
   "id": "2f728595-eced-48af-98db-1150198a04af",
   "metadata": {
    "tags": []
   },
   "outputs": [],
   "source": [
    "#lineparam = dict(p0=dict(v=27, h=16), p1=dict(v=46, h=634))\n",
    "lineparam = dict(p0=dict(v=27, h=16+8), p1=dict(v=46, h=634-8))"
   ]
  },
  {
   "cell_type": "code",
   "execution_count": null,
   "id": "1f6bb571-ca4b-4b0a-9c81-d7a39a6b3f2a",
   "metadata": {
    "tags": []
   },
   "outputs": [],
   "source": [
    "## show line placement\n",
    "seq.go2frame(-1)\n",
    "fig = seq.read_line(line=lineparam, plot_show_line=True)\n",
    "fig.set_size_inches(r_[250, 60]/25.4)\n",
    "fig.suptitle('{s.filename_woext}: fnr={s.current_frame_number}, time={s.current_frame_time} '.format(s=seq))\n",
    "fig"
   ]
  },
  {
   "cell_type": "code",
   "execution_count": null,
   "id": "6e07a16e-46f0-44b9-a7bb-e3298dc821ba",
   "metadata": {
    "tags": []
   },
   "outputs": [],
   "source": [
    "## read full data\n",
    "#%timeit -r1 -n1 \n",
    "lines_over_time_df = seq.read_line_over_time_df(line=lineparam)"
   ]
  },
  {
   "cell_type": "code",
   "execution_count": null,
   "id": "64d5099f-d5eb-434d-8b20-4afdd393559f",
   "metadata": {
    "tags": []
   },
   "outputs": [],
   "source": [
    "## plot data\n",
    "param = dict(cmap='plasma') #, vmin=365-273.15, vmax=375-273.15)\n",
    "fig,ax = plt.subplots(1,1) #,figsize=r_[300, 70]/25.4)\n",
    "p = ax.imshow(lines_over_time_df.pixels.to_numpy()-273.15, interpolation='nearest', origin='lower', **param)\n",
    "fig.set_size_inches(r_[300, 150]/25.4)\n",
    "fig.suptitle('{s.filename_woext}: time={s.first_frame_time} '.format(s=seq))\n",
    "None\n",
    "fig"
   ]
  },
  {
   "cell_type": "code",
   "execution_count": null,
   "id": "f9c98fdc-434d-4e38-892a-585fa2c3380f",
   "metadata": {
    "tags": []
   },
   "outputs": [],
   "source": [
    "## plot data presentation\n",
    "param = dict(cmap='plasma') #, vmin=365-273.15, vmax=375-273.15)\n",
    "fig,ax = plt.subplots(1,1) #,figsize=r_[300, 70]/25.4)\n",
    "p = ax.imshow(lines_over_time_df.pixels.to_numpy()-273.15, interpolation='nearest', origin='lower', **param)\n",
    "ax.set_axis_off()\n",
    "fig.set_size_inches(r_[300, 150]/25.4)\n",
    "#fig.suptitle('{s.filename_woext}: time={s.first_frame_time} '.format(s=seq))\n",
    "#ax.set_xlim([2200,4800])\n",
    "#fig.savefig('presenation_web.png', dpi=600)\n",
    "None\n",
    "fig"
   ]
  },
  {
   "cell_type": "code",
   "execution_count": null,
   "id": "0010171f-78ff-479a-9761-321508efc178",
   "metadata": {
    "tags": []
   },
   "outputs": [],
   "source": [
    "lines_over_time_df.set_index([('time', 'timestamp')], inplace=True)\n",
    "#lines_over_time_df.set_index([('time', 'time_sec')], inplace=True)"
   ]
  },
  {
   "cell_type": "code",
   "execution_count": null,
   "id": "2ad6a59b-2fa6-43c3-ade8-71164f9e4048",
   "metadata": {
    "tags": []
   },
   "outputs": [],
   "source": [
    "fig, ax = plt.subplots(1,1)\n",
    "lines_over_time_df.pixels[12].plot(ax=ax)\n",
    "fig"
   ]
  }
 ],
 "metadata": {
  "kernelspec": {
   "display_name": "Python 3 (ipykernel)",
   "language": "python",
   "name": "python3"
  },
  "language_info": {
   "codemirror_mode": {
    "name": "ipython",
    "version": 3
   },
   "file_extension": ".py",
   "mimetype": "text/x-python",
   "name": "python",
   "nbconvert_exporter": "python",
   "pygments_lexer": "ipython3",
   "version": "3.10.9"
  }
 },
 "nbformat": 4,
 "nbformat_minor": 5
}
